{
 "cells": [
  {
   "cell_type": "code",
   "execution_count": 1,
   "metadata": {},
   "outputs": [],
   "source": [
    "import pandas as pd"
   ]
  },
  {
   "cell_type": "code",
   "execution_count": 4,
   "metadata": {},
   "outputs": [
    {
     "data": {
      "text/plain": [
       "Index(['Vidwan-ID', 'Name', 'Position', 'Department', 'University', 'Location',\n",
       "       'Profile URL', 'Expertise', 'Experience', 'Qualification',\n",
       "       'Honours and Awards', 'Highest Qualification', 'Has Awards',\n",
       "       'Start Year', 'Years of Experience'],\n",
       "      dtype='object')"
      ]
     },
     "execution_count": 4,
     "metadata": {},
     "output_type": "execute_result"
    }
   ],
   "source": [
    "df = pd.read_csv(\"indian_faculty_dataset.csv\")\n",
    "df.columns"
   ]
  },
  {
   "cell_type": "code",
   "execution_count": 9,
   "metadata": {},
   "outputs": [],
   "source": [
    "for index, row in df.iterrows():\n",
    "    name_arr = row['Name'].split()\n",
    "    if name_arr[0] == 'Mr':\n",
    "        df.at[index,'Gender'] = 'Male'\n",
    "    elif name_arr[0] == 'Ms' or name_arr[0] == 'Mrs':\n",
    "        df.at[index,'Gender'] = 'Female'\n",
    "    else:\n",
    "        df.at[index,'Gender'] = 'None'"
   ]
  },
  {
   "cell_type": "code",
   "execution_count": null,
   "metadata": {},
   "outputs": [],
   "source": [
    "for index, row in df.iterrows():\n",
    "    print(row['Name'], row['Gender'])"
   ]
  },
  {
   "cell_type": "code",
   "execution_count": 13,
   "metadata": {},
   "outputs": [],
   "source": [
    "df['Has Awards'] = df['Has Awards'].astype(int)"
   ]
  },
  {
   "cell_type": "code",
   "execution_count": null,
   "metadata": {},
   "outputs": [],
   "source": [
    "for index, row in df.iterrows():\n",
    "    print(row['Name'], row['Gender'], row['Has Awards'])"
   ]
  },
  {
   "cell_type": "code",
   "execution_count": 16,
   "metadata": {},
   "outputs": [
    {
     "data": {
      "text/plain": [
       "Index(['Vidwan-ID', 'Name', 'Gender', 'Has Awards'], dtype='object')"
      ]
     },
     "execution_count": 16,
     "metadata": {},
     "output_type": "execute_result"
    }
   ],
   "source": [
    "clean_df = df[['Vidwan-ID','Name','Gender','Has Awards']]\n",
    "clean_df.columns"
   ]
  },
  {
   "cell_type": "code",
   "execution_count": 17,
   "metadata": {},
   "outputs": [
    {
     "data": {
      "text/plain": [
       "<bound method NDFrame.head of        Vidwan-ID                        Name  Gender  Has Awards\n",
       "0         556330         Ms Dixita Kagathara  Female           0\n",
       "1         556331          Mr Firoz Sherasiya    Male           0\n",
       "2         556358            Mr Bhavin Kanani    Male           0\n",
       "3         556374          Ms Vrunda Amrutiya  Female           0\n",
       "4         556357                Mr Raj Mehta    Male           0\n",
       "...          ...                         ...     ...         ...\n",
       "15495     204095  Prof Shib Shankar Banerjee    None           0\n",
       "15496     202739                Mrs Aparna R  Female           0\n",
       "15497     170536        Dr Abhishek Majumder    None           1\n",
       "15498     206814         Dr Jaya Kishor Seth    None           1\n",
       "15499     199308      Dr Rachel Reena Philip    None           0\n",
       "\n",
       "[15500 rows x 4 columns]>"
      ]
     },
     "execution_count": 17,
     "metadata": {},
     "output_type": "execute_result"
    }
   ],
   "source": [
    "clean_df.head"
   ]
  },
  {
   "cell_type": "code",
   "execution_count": 19,
   "metadata": {},
   "outputs": [],
   "source": [
    "clean_df.to_csv('cleaned_dataset.csv', index=False)"
   ]
  }
 ],
 "metadata": {
  "kernelspec": {
   "display_name": "Python 3",
   "language": "python",
   "name": "python3"
  },
  "language_info": {
   "codemirror_mode": {
    "name": "ipython",
    "version": 3
   },
   "file_extension": ".py",
   "mimetype": "text/x-python",
   "name": "python",
   "nbconvert_exporter": "python",
   "pygments_lexer": "ipython3",
   "version": "3.13.2"
  }
 },
 "nbformat": 4,
 "nbformat_minor": 2
}
